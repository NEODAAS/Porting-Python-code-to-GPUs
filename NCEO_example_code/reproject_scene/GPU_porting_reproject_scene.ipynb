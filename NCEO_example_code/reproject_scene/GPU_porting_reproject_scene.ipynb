{
 "cells": [
  {
   "cell_type": "markdown",
   "id": "israeli-alexander",
   "metadata": {},
   "source": [
    "# Notebook to investigate the reproject_scene.py script"
   ]
  },
  {
   "cell_type": "markdown",
   "id": "sixth-timber",
   "metadata": {},
   "source": [
    "Can use the conda environment `landsat2nc_env2` for running the original code. MAGEO has all of the required libraries we need so using default env for now."
   ]
  },
  {
   "cell_type": "markdown",
   "id": "silent-photograph",
   "metadata": {},
   "source": [
    "## Running the original code"
   ]
  },
  {
   "cell_type": "code",
   "execution_count": null,
   "id": "boolean-optics",
   "metadata": {},
   "outputs": [],
   "source": [
    "# imports for running the original code:\n",
    "import xarray as xr\n",
    "from osgeo import osr, gdal\n",
    "import numpy as np\n",
    "import logging"
   ]
  },
  {
   "cell_type": "code",
   "execution_count": null,
   "id": "guilty-cabin",
   "metadata": {},
   "outputs": [],
   "source": [
    "# Projection class from original code. Will leave this unchanged for now\n",
    "# as it is just used once at the start of the processing to get the\n",
    "# projection info from the input file and define the target projection.\n",
    "\n",
    "class Projection:\n",
    "\n",
    "    wgs84_wkt = \"\"\"\n",
    "        GEOGCS[\"WGS 84\",\n",
    "        DATUM[\"WGS_1984\",\n",
    "            SPHEROID[\"WGS 84\",6378137,298.257223563,\n",
    "                AUTHORITY[\"EPSG\",\"7030\"]],\n",
    "            AUTHORITY[\"EPSG\",\"6326\"]],\n",
    "        PRIMEM[\"Greenwich\",0,\n",
    "            AUTHORITY[\"EPSG\",\"8901\"]],\n",
    "        UNIT[\"degree\",0.01745329251994328,\n",
    "            AUTHORITY[\"EPSG\",\"9122\"]],\n",
    "        AUTHORITY[\"EPSG\",\"4326\"]]\"\"\"\n",
    "\n",
    "    def __init__(self,source_projection):\n",
    "        self.source_projeciton = source_projection\n",
    "\n",
    "        # WGS coordinate system\n",
    "        wgs84_coord_sys = osr.SpatialReference()\n",
    "        wgs84_coord_sys.ImportFromWkt(Projection.wgs84_wkt)\n",
    "\n",
    "        srs = osr.SpatialReference()\n",
    "        srs.ImportFromWkt(self.source_projeciton)\n",
    "\n",
    "        self.source_to_wgs84 = osr.CoordinateTransformation(srs, wgs84_coord_sys)\n",
    "\n",
    "    def get_source_to_wgs84_transform(self):\n",
    "        return self.source_to_wgs84\n",
    "\n",
    "    @staticmethod\n",
    "    def setup(source_projection):\n",
    "        Projection.projector = Projection(source_projection)"
   ]
  },
  {
   "cell_type": "code",
   "execution_count": null,
   "id": "desirable-sewing",
   "metadata": {},
   "outputs": [],
   "source": [
    "# Original TiffImporter class. This contains the function to reproject the\n",
    "# image and is the bit that takes time. The code below will be modified to\n",
    "# see if it can run faster on a GPU.\n",
    "\n",
    "class TiffImporter:\n",
    "\n",
    "    def __init__(self):\n",
    "        pass\n",
    "\n",
    "    def latlon_image(self, path):\n",
    "\n",
    "        # Open input dataset\n",
    "        indataset = gdal.Open(path, gdal.GA_ReadOnly)\n",
    "        Projection.setup(indataset.GetProjection())\n",
    "\n",
    "        # Read geotransform matrix and calculate ground coordinates\n",
    "        geomatrix = indataset.GetGeoTransform()\n",
    "        pixel = indataset.RasterXSize\n",
    "        line = indataset.RasterYSize\n",
    "\n",
    "        ct = Projection.projector.get_source_to_wgs84_transform()\n",
    "\n",
    "        latlon_im = np.zeros([2, line, pixel])\n",
    "\n",
    "        logging.getLogger().info(\"Mapping pixel locations to target projection\")\n",
    "        pct = -1\n",
    "        for i in np.arange(0, line, 1):\n",
    "            new_pct = int(100*i/line)\n",
    "            if new_pct > pct and new_pct % 5 == 0:\n",
    "                logging.getLogger().info(\"%d\"%new_pct + \"%\")\n",
    "                pct = new_pct\n",
    "\n",
    "            for j in np.arange(0, pixel, 1):\n",
    "\n",
    "                # step 1 - apply geotransform to get the UTM coordinates of the pixel at i,j\n",
    "                X = geomatrix[0] + geomatrix[1] * j + geomatrix[2] * i\n",
    "                Y = geomatrix[3] + geomatrix[4] * j + geomatrix[5] * i\n",
    "\n",
    "                # Shift to the center of the pixel\n",
    "                X += geomatrix[1] / 2.0\n",
    "                Y += geomatrix[5] / 2.0\n",
    "\n",
    "                # step 2 - apply reprojection from UTM to WGS84\n",
    "                (lat,lon,_) = ct.TransformPoint(X, Y)\n",
    "\n",
    "                latlon_im[0, i, j] = lat\n",
    "                latlon_im[1, i, j] = lon\n",
    "\n",
    "        return latlon_im"
   ]
  },
  {
   "cell_type": "code",
   "execution_count": null,
   "id": "cellular-chase",
   "metadata": {},
   "outputs": [],
   "source": [
    "# Need to download the test data:\n",
    "#!wget https://gws-access.jasmin.ac.uk/public/nceo_uor/niall/LC08_L2SP_201024_20180629_20200831_02_T1/LC08_L2SP_201024_20180629_20200831_02_T1_ST_B10.TIF -P data/"
   ]
  },
  {
   "cell_type": "code",
   "execution_count": null,
   "id": "executive-principle",
   "metadata": {},
   "outputs": [],
   "source": [
    "# The next few cells contain the main code in the reproject_scene.py script\n",
    "# that runs on the example file\n",
    "input_path =  'data/LC08_L2SP_201024_20180629_20200831_02_T1_ST_B10.TIF'   # path to a Landsat8 TIF file to read\n",
    "output_path = 'coordinates.nc'   # path to output netcdf4 file containing pixel lat/lon coordinates\n",
    "#logging.basicConfig(level=logging.INFO,format='%(asctime)s - %(name)s - %(levelname)s - %(message)s')\n",
    "#logging.info(\"Extracting WGS84 pixel coordinates from image %s to %s\" % (input_path, output_path))\n",
    "importer = TiffImporter()"
   ]
  },
  {
   "cell_type": "code",
   "execution_count": null,
   "id": "precious-calibration",
   "metadata": {},
   "outputs": [],
   "source": [
    "%%time\n",
    "# the bit that takes the time:\n",
    "latlon_im = importer.latlon_image(input_path)"
   ]
  },
  {
   "cell_type": "code",
   "execution_count": null,
   "id": "cooked-insertion",
   "metadata": {
    "tags": []
   },
   "outputs": [],
   "source": [
    "logging.info(\"Extracted coordinates - shape %s\" % str(latlon_im.shape))\n",
    "da = xr.DataArray(data=latlon_im, dims=(\"axis\",\"i\",\"j\"),name=\"latlons\")\n",
    "da.to_netcdf(output_path)\n",
    "logging.info(\"Extraction complete\")"
   ]
  },
  {
   "cell_type": "code",
   "execution_count": null,
   "id": "supreme-civilian",
   "metadata": {},
   "outputs": [],
   "source": [
    "# Ran a quick test on the above code by commenting out the step 2 code and checking\n",
    "# processing time. This took over 8mins to run so step 1 is taking up the bulk\n",
    "# of the processing time. Speeding up this step alone will make a big difference to overall\n",
    "# time."
   ]
  },
  {
   "cell_type": "markdown",
   "id": "confidential-soldier",
   "metadata": {},
   "source": [
    "## Vectorize step 1"
   ]
  },
  {
   "cell_type": "code",
   "execution_count": null,
   "id": "lesser-hollywood",
   "metadata": {},
   "outputs": [],
   "source": [
    "from numba import vectorize, cuda"
   ]
  },
  {
   "cell_type": "code",
   "execution_count": null,
   "id": "infrared-ground",
   "metadata": {},
   "outputs": [],
   "source": [
    "# device = cuda.get_current_device()\n",
    "# device.reset()"
   ]
  },
  {
   "cell_type": "code",
   "execution_count": null,
   "id": "challenging-uganda",
   "metadata": {},
   "outputs": [],
   "source": [
    "# cuda.select_device(0)\n",
    "# cuda.close()\n",
    "# cuda.select_device(0)"
   ]
  },
  {
   "cell_type": "code",
   "execution_count": null,
   "id": "fresh-chaos",
   "metadata": {},
   "outputs": [],
   "source": [
    "# run the first few bits of the latlon_image function to use for testing vectorized\n",
    "# functions...\n",
    "\n",
    "# Open input dataset\n",
    "indataset = gdal.Open(input_path, gdal.GA_ReadOnly)\n",
    "Projection.setup(indataset.GetProjection())\n",
    "\n",
    "# Read geotransform matrix and calculate ground coordinates\n",
    "geomatrix = indataset.GetGeoTransform()\n",
    "pixel = indataset.RasterXSize\n",
    "line = indataset.RasterYSize\n",
    "\n",
    "ct = Projection.projector.get_source_to_wgs84_transform()"
   ]
  },
  {
   "cell_type": "code",
   "execution_count": null,
   "id": "civil-position",
   "metadata": {},
   "outputs": [],
   "source": [
    "# CPU"
   ]
  },
  {
   "cell_type": "code",
   "execution_count": null,
   "id": "refined-shepherd",
   "metadata": {},
   "outputs": [],
   "source": [
    "# functions to apply geotransform to get the UTM coordinates of the pixel at i,j\n",
    "# separate functions for x and y - probably a nicer way of handling this!\n",
    "\n",
    "@vectorize\n",
    "def geotransform_x_cpu(i, j):\n",
    "    x = geomatrix[0] + geomatrix[1] * j + geomatrix[2] * i\n",
    "    # Shift to the center of the pixel\n",
    "    x += geomatrix[1] / 2.0\n",
    "    return x\n",
    "\n",
    "@vectorize\n",
    "def geotransform_y_cpu(i, j):\n",
    "    y = geomatrix[3] + geomatrix[4] * j + geomatrix[5] * i\n",
    "    # Shift to the center of the pixel\n",
    "    y += geomatrix[5] / 2.0\n",
    "    return y"
   ]
  },
  {
   "cell_type": "code",
   "execution_count": null,
   "id": "pharmaceutical-quebec",
   "metadata": {},
   "outputs": [],
   "source": [
    "i = np.arange(0, line, 1).reshape(line, 1)\n",
    "j = np.arange(0, pixel, 1).reshape(1, pixel)"
   ]
  },
  {
   "cell_type": "code",
   "execution_count": null,
   "id": "protected-original",
   "metadata": {},
   "outputs": [],
   "source": [
    "%%timeit\n",
    "x = geotransform_x_cpu(i, j)\n",
    "y = geotransform_y_cpu(i, j)"
   ]
  },
  {
   "cell_type": "code",
   "execution_count": null,
   "id": "generic-dealing",
   "metadata": {},
   "outputs": [],
   "source": [
    "# a significant improvement! (about 8mins down to half a sec)"
   ]
  },
  {
   "cell_type": "code",
   "execution_count": null,
   "id": "other-render",
   "metadata": {},
   "outputs": [],
   "source": [
    "## how about numpy vectorize:\n",
    "def geotransform_x_cpu(i, j):\n",
    "    x = geomatrix[0] + geomatrix[1] * j + geomatrix[2] * i\n",
    "    # Shift to the center of the pixel\n",
    "    x += geomatrix[1] / 2.0\n",
    "    return x\n",
    "\n",
    "geo_x_vec = np.vectorize(geotransform_x_cpu)\n",
    "%timeit geo_x_vec(i, j)"
   ]
  },
  {
   "cell_type": "code",
   "execution_count": null,
   "id": "sustained-sierra",
   "metadata": {},
   "outputs": [],
   "source": [
    "from numba import jit, vectorize\n",
    "\n",
    "@jit\n",
    "def geotransform_x_cpu(i, j):\n",
    "    x = geomatrix[0] + geomatrix[1] * j + geomatrix[2] * i\n",
    "    # Shift to the center of the pixel\n",
    "    x += geomatrix[1] / 2.0\n",
    "    return x\n",
    "\n",
    "@jit\n",
    "def geotransform_y_cpu(i, j):\n",
    "    y = geomatrix[3] + geomatrix[4] * j + geomatrix[5] * i\n",
    "    # Shift to the center of the pixel\n",
    "    y += geomatrix[5] / 2.0\n",
    "    return y\n"
   ]
  },
  {
   "cell_type": "code",
   "execution_count": null,
   "id": "better-manufacturer",
   "metadata": {},
   "outputs": [],
   "source": [
    "%%timeit\n",
    "geotransform_x_cpu(i, j)\n",
    "geotransform_y_cpu(i, j)"
   ]
  },
  {
   "cell_type": "code",
   "execution_count": null,
   "id": "universal-investigator",
   "metadata": {},
   "outputs": [],
   "source": [
    "def geotransform_x_cpu(i, j):\n",
    "    x = geomatrix[0] + geomatrix[1] * j + geomatrix[2] * i\n",
    "    # Shift to the center of the pixel\n",
    "    x += geomatrix[1] / 2.0\n",
    "    return x\n",
    "\n",
    "def geotransform_y_cpu(i, j):\n",
    "    y = geomatrix[3] + geomatrix[4] * j + geomatrix[5] * i\n",
    "    # Shift to the center of the pixel\n",
    "    y += geomatrix[5] / 2.0\n",
    "    return y\n"
   ]
  },
  {
   "cell_type": "code",
   "execution_count": null,
   "id": "familiar-leone",
   "metadata": {},
   "outputs": [],
   "source": [
    "%%timeit\n",
    "# just np...\n",
    "geotransform_x_cpu(i, j)\n",
    "geotransform_y_cpu(i, j)"
   ]
  },
  {
   "cell_type": "code",
   "execution_count": null,
   "id": "inner-decision",
   "metadata": {},
   "outputs": [],
   "source": [
    "# fastest method is with numba vectorize"
   ]
  },
  {
   "cell_type": "code",
   "execution_count": null,
   "id": "hungry-thunder",
   "metadata": {},
   "outputs": [],
   "source": [
    "# GPU"
   ]
  },
  {
   "cell_type": "code",
   "execution_count": null,
   "id": "smoking-syria",
   "metadata": {
    "tags": []
   },
   "outputs": [],
   "source": [
    "@vectorize(['float64(int64, int64)'], target='cuda')\n",
    "def geotransform_x_gpu(i, j):\n",
    "    x = geomatrix[0] + geomatrix[1] * j + geomatrix[2] * i\n",
    "    x += geomatrix[1] / 2.0\n",
    "    return x\n",
    "\n",
    "@vectorize(['float64(int64, int64)'], target='cuda')\n",
    "def geotransform_y_gpu(i, j):\n",
    "    y = geomatrix[3] + geomatrix[4] * j + geomatrix[5] * i\n",
    "    y += geomatrix[5] / 2.0\n",
    "    return y"
   ]
  },
  {
   "cell_type": "code",
   "execution_count": null,
   "id": "daily-flooring",
   "metadata": {
    "tags": []
   },
   "outputs": [],
   "source": [
    "%%time\n",
    "geotransform_x_gpu(i, j)\n",
    "geotransform_y_gpu(i, j)"
   ]
  },
  {
   "cell_type": "code",
   "execution_count": null,
   "id": "joined-allah",
   "metadata": {},
   "outputs": [],
   "source": [
    "# this takes over 1 sec, so slower than using CPU - probably due to copying data to/from device, check..."
   ]
  },
  {
   "cell_type": "code",
   "execution_count": null,
   "id": "close-oxide",
   "metadata": {},
   "outputs": [],
   "source": [
    "# del d_x, d_y, d_i, d_j"
   ]
  },
  {
   "cell_type": "code",
   "execution_count": null,
   "id": "ordinary-throat",
   "metadata": {
    "tags": []
   },
   "outputs": [],
   "source": [
    "%%time\n",
    "d_i = cuda.to_device(i) #input\n",
    "d_j = cuda.to_device(j) #input\n",
    "d_x = cuda.device_array(shape=(8081, 8181), dtype=np.float64) #output\n",
    "d_y = cuda.device_array(shape=(8081, 8181), dtype=np.float64) #output\n",
    "\n",
    "geotransform_x_gpu(d_i, d_j, out=d_x)\n",
    "geotransform_y_gpu(d_i, d_j, out=d_y)\n",
    "\n",
    "x = d_x.copy_to_host()\n",
    "y = d_y.copy_to_host()"
   ]
  },
  {
   "cell_type": "code",
   "execution_count": null,
   "id": "naval-cleaning",
   "metadata": {
    "tags": []
   },
   "outputs": [],
   "source": [
    "d_i = cuda.to_device(i)\n",
    "d_j = cuda.to_device(j)\n",
    "d_x = cuda.device_array(shape=(8081, 8181), dtype=np.float64)\n",
    "d_y = cuda.device_array(shape=(8081, 8181), dtype=np.float64)"
   ]
  },
  {
   "cell_type": "code",
   "execution_count": null,
   "id": "blond-religion",
   "metadata": {
    "tags": []
   },
   "outputs": [],
   "source": [
    "%%timeit\n",
    "# time the processing only:\n",
    "geotransform_x_gpu(d_i, d_j, out=d_x)\n",
    "geotransform_y_gpu(d_i, d_j, out=d_y)"
   ]
  },
  {
   "cell_type": "code",
   "execution_count": null,
   "id": "polyphonic-belarus",
   "metadata": {
    "tags": []
   },
   "outputs": [],
   "source": [
    "x = d_x.copy_to_host()\n",
    "y = d_y.copy_to_host()"
   ]
  },
  {
   "cell_type": "code",
   "execution_count": null,
   "id": "ethical-shaft",
   "metadata": {},
   "outputs": [],
   "source": [
    "# time for processing alone is much less. So although CPU may be faster for step 1 alone,\n",
    "# may be overall faster when perform both steps on GPU...\n",
    "# NOTE: above I am still seeing longer timings for GPU than CPU - this had gone down to a few microseconds\n",
    "# in the original notebook so I'm not sure why slower today.\n",
    "# The first time you run it, the function will take longer because it has to compile. Running again you get much faster\n",
    "# timings. To see fastest results would be good to run the script on multiple scenes in same script to make use of cache."
   ]
  },
  {
   "cell_type": "code",
   "execution_count": null,
   "id": "threatened-conspiracy",
   "metadata": {},
   "outputs": [],
   "source": [
    "# Try plugging in step 1 into the TiffImporter class to ensure get same results and look at new timings..."
   ]
  },
  {
   "cell_type": "code",
   "execution_count": null,
   "id": "viral-period",
   "metadata": {},
   "outputs": [],
   "source": [
    "# Adding the functions within class for now because they need the local variables (geomatrix)\n",
    "class TiffImporter:\n",
    "\n",
    "    def __init__(self):\n",
    "        pass\n",
    "\n",
    "    def latlon_image(self, path):\n",
    "\n",
    "        # Open input dataset\n",
    "        indataset = gdal.Open(path, gdal.GA_ReadOnly)\n",
    "        Projection.setup(indataset.GetProjection())\n",
    "\n",
    "        # Read geotransform matrix and calculate ground coordinates\n",
    "        geomatrix = indataset.GetGeoTransform()\n",
    "        pixel = indataset.RasterXSize\n",
    "        line = indataset.RasterYSize\n",
    "\n",
    "        ct = Projection.projector.get_source_to_wgs84_transform()\n",
    "\n",
    "        latlon_im = np.zeros([2, line, pixel])\n",
    "\n",
    "        logging.getLogger().info(\"Mapping pixel locations to target projection\")\n",
    "\n",
    "        # step 1 - apply geotransform to get the UTM coordinates of the pixel at i,j\n",
    "        @vectorize(['float64(int64, int64)'], target='cuda')\n",
    "        def geotransform_x_gpu(i, j):\n",
    "            x = geomatrix[0] + geomatrix[1] * j + geomatrix[2] * i\n",
    "            x += geomatrix[1] / 2.0\n",
    "            return x\n",
    "\n",
    "        @vectorize(['float64(int64, int64)'], target='cuda')\n",
    "        def geotransform_y_gpu(i, j):\n",
    "            y = geomatrix[3] + geomatrix[4] * j + geomatrix[5] * i\n",
    "            y += geomatrix[5] / 2.0\n",
    "            return y\n",
    "        \n",
    "        i = np.arange(0, line, 1).reshape(line, 1)\n",
    "        j = np.arange(0, pixel, 1).reshape(1, pixel)\n",
    "        \n",
    "        d_i = cuda.to_device(i)\n",
    "        d_j = cuda.to_device(j)\n",
    "        d_x = cuda.device_array(shape=(line, pixel), dtype=np.float64)\n",
    "        d_y = cuda.device_array(shape=(line, pixel), dtype=np.float64)\n",
    "\n",
    "        geotransform_x_gpu(d_i, d_j, out=d_x)\n",
    "        geotransform_y_gpu(d_i, d_j, out=d_y)\n",
    "\n",
    "        x = d_x.copy_to_host()\n",
    "        y = d_y.copy_to_host()\n",
    "        \n",
    "        for i in np.arange(0, line, 1):\n",
    "            for j in np.arange(0, pixel, 1):\n",
    "                X = x[i, j]\n",
    "                Y = y[i, j]\n",
    "                \n",
    "                # step 2 - apply reprojection from UTM to WGS84\n",
    "                (lat,lon,_) = ct.TransformPoint(X, Y)\n",
    "\n",
    "                latlon_im[0, i, j] = lat\n",
    "                latlon_im[1, i, j] = lon\n",
    "\n",
    "        return latlon_im"
   ]
  },
  {
   "cell_type": "code",
   "execution_count": null,
   "id": "cheap-sound",
   "metadata": {},
   "outputs": [],
   "source": [
    "%%time\n",
    "importer = TiffImporter()\n",
    "latlon_im = importer.latlon_image(input_path)"
   ]
  },
  {
   "cell_type": "code",
   "execution_count": null,
   "id": "compatible-microwave",
   "metadata": {},
   "outputs": [],
   "source": [
    "latlon_im.shape"
   ]
  },
  {
   "cell_type": "code",
   "execution_count": null,
   "id": "limited-extreme",
   "metadata": {},
   "outputs": [],
   "source": [
    "da_gpu = xr.DataArray(data=latlon_im, dims=(\"axis\",\"i\",\"j\"),name=\"latlons\")"
   ]
  },
  {
   "cell_type": "code",
   "execution_count": null,
   "id": "monthly-gentleman",
   "metadata": {},
   "outputs": [],
   "source": [
    "da_orig = xr.open_dataarray(output_path)"
   ]
  },
  {
   "cell_type": "code",
   "execution_count": null,
   "id": "committed-deficit",
   "metadata": {},
   "outputs": [],
   "source": [
    "np.all(da_gpu == da_orig)"
   ]
  },
  {
   "cell_type": "code",
   "execution_count": null,
   "id": "organized-machine",
   "metadata": {},
   "outputs": [],
   "source": [
    "# so yes it gives same result and we've gone from 12mins down to 3mins"
   ]
  },
  {
   "cell_type": "code",
   "execution_count": null,
   "id": "mediterranean-delaware",
   "metadata": {},
   "outputs": [],
   "source": []
  },
  {
   "cell_type": "markdown",
   "id": "dated-upset",
   "metadata": {},
   "source": [
    "## Vectorize step 2"
   ]
  },
  {
   "cell_type": "code",
   "execution_count": null,
   "id": "uniform-mercy",
   "metadata": {},
   "outputs": [],
   "source": [
    "# step 2 - apply reprojection from UTM to WGS84\n",
    "# what is happening here: (lat,lon,_) = ct.TransformPoint(X, Y)\n",
    "# and how can we port it to GPU?"
   ]
  },
  {
   "cell_type": "code",
   "execution_count": null,
   "id": "beautiful-jurisdiction",
   "metadata": {},
   "outputs": [],
   "source": [
    "# (Need to look more in to what PROJ does for the conversion.)"
   ]
  },
  {
   "cell_type": "code",
   "execution_count": null,
   "id": "useful-pharmaceutical",
   "metadata": {
    "tags": []
   },
   "outputs": [],
   "source": [
    "# found an alternative example where it does the conversion (possibly less accurate?) with pure python:\n",
    "import math as mathlib\n",
    "\n",
    "__all__ = ['to_latlon', 'from_latlon']\n",
    "\n",
    "K0 = 0.9996\n",
    "\n",
    "E = 0.00669438\n",
    "E2 = E * E\n",
    "E3 = E2 * E\n",
    "E_P2 = E / (1.0 - E)\n",
    "\n",
    "SQRT_E = mathlib.sqrt(1 - E)\n",
    "_E = (1 - SQRT_E) / (1 + SQRT_E)\n",
    "_E2 = _E * _E\n",
    "_E3 = _E2 * _E\n",
    "_E4 = _E3 * _E\n",
    "_E5 = _E4 * _E\n",
    "\n",
    "M1 = (1 - E / 4 - 3 * E2 / 64 - 5 * E3 / 256)\n",
    "M2 = (3 * E / 8 + 3 * E2 / 32 + 45 * E3 / 1024)\n",
    "M3 = (15 * E2 / 256 + 45 * E3 / 1024)\n",
    "M4 = (35 * E3 / 3072)\n",
    "\n",
    "P2 = (3. / 2 * _E - 27. / 32 * _E3 + 269. / 512 * _E5)\n",
    "P3 = (21. / 16 * _E2 - 55. / 32 * _E4)\n",
    "P4 = (151. / 96 * _E3 - 417. / 128 * _E5)\n",
    "P5 = (1097. / 512 * _E4)\n",
    "\n",
    "R = 6378137\n",
    "\n",
    "ZONE_LETTERS = \"CDEFGHJKLMNPQRSTUVWXX\"\n",
    "\n",
    "def in_bounds(x, lower, upper, upper_strict=False):\n",
    "    if upper_strict and use_numpy:\n",
    "        return lower <= mathlib.min(x) and mathlib.max(x) < upper\n",
    "    elif upper_strict and not use_numpy:\n",
    "        return lower <= x < upper\n",
    "    elif use_numpy:\n",
    "        return lower <= mathlib.min(x) and mathlib.max(x) <= upper\n",
    "    return lower <= x <= upper\n",
    "\n",
    "def mixed_signs(x):\n",
    "    return use_numpy and mathlib.min(x) < 0 and mathlib.max(x) >= 0\n",
    "\n",
    "def negative(x):\n",
    "    if use_numpy:\n",
    "        return mathlib.max(x) < 0\n",
    "    return x < 0\n",
    "\n",
    "def to_latlon(easting, northing, zone_number, zone_letter=None, northern=None, strict=True):\n",
    "\n",
    "    if not zone_letter and northern is None:\n",
    "        raise ValueError('either zone_letter or northern needs to be set')\n",
    "\n",
    "    elif zone_letter and northern is not None:\n",
    "        raise ValueError('set either zone_letter or northern, but not both')\n",
    "\n",
    "    if strict:\n",
    "        if not in_bounds(easting, 100000, 1000000, upper_strict=True):\n",
    "            raise OutOfRangeError('easting out of range (must be between 100.000 m and 999.999 m)')\n",
    "        if not in_bounds(northing, 0, 10000000):\n",
    "            raise OutOfRangeError('northing out of range (must be between 0 m and 10.000.000 m)')\n",
    "\n",
    "    if zone_letter:\n",
    "        zone_letter = zone_letter.upper()\n",
    "        northern = (zone_letter >= 'N')\n",
    "\n",
    "    x = easting - 500000\n",
    "    y = northing\n",
    "\n",
    "    if not northern:\n",
    "        y -= 10000000\n",
    "\n",
    "    m = y / K0\n",
    "    mu = m / (R * M1)\n",
    "\n",
    "    p_rad = (mu +\n",
    "             P2 * mathlib.sin(2 * mu) +\n",
    "             P3 * mathlib.sin(4 * mu) +\n",
    "             P4 * mathlib.sin(6 * mu) +\n",
    "             P5 * mathlib.sin(8 * mu))\n",
    "\n",
    "    p_sin = mathlib.sin(p_rad)\n",
    "    p_sin2 = p_sin * p_sin\n",
    "\n",
    "    p_cos = mathlib.cos(p_rad)\n",
    "    \n",
    "    p_tan = p_sin / p_cos\n",
    "    p_tan2 = p_tan * p_tan\n",
    "    p_tan4 = p_tan2 * p_tan2\n",
    "\n",
    "    ep_sin = 1 - E * p_sin2\n",
    "    ep_sin_sqrt = mathlib.sqrt(1 - E * p_sin2)\n",
    "\n",
    "    n = R / ep_sin_sqrt\n",
    "    r = (1 - E) / ep_sin\n",
    "\n",
    "    c = _E * p_cos**2\n",
    "    c2 = c * c\n",
    "\n",
    "    d = x / (n * K0)\n",
    "    d2 = d * d\n",
    "    d3 = d2 * d\n",
    "    d4 = d3 * d\n",
    "    d5 = d4 * d\n",
    "    d6 = d5 * d\n",
    "\n",
    "    latitude = (p_rad - (p_tan / r) *\n",
    "                (d2 / 2 -\n",
    "                 d4 / 24 * (5 + 3 * p_tan2 + 10 * c - 4 * c2 - 9 * E_P2)) +\n",
    "                 d6 / 720 * (61 + 90 * p_tan2 + 298 * c + 45 * p_tan4 - 252 * E_P2 - 3 * c2))\n",
    "\n",
    "    longitude = (d -\n",
    "                 d3 / 6 * (1 + 2 * p_tan2 + c) +\n",
    "                 d5 / 120 * (5 - 2 * c + 28 * p_tan2 - 3 * c2 + 8 * E_P2 + 24 * p_tan4)) / p_cos\n",
    "\n",
    "    return (mathlib.degrees(latitude),\n",
    "            mathlib.degrees(longitude) + zone_number_to_central_longitude(zone_number))\n",
    "\n",
    "def from_latlon(latitude, longitude, force_zone_number=None, force_zone_letter=None):\n",
    "\n",
    "    if not in_bounds(latitude, -80.0, 84.0):\n",
    "        raise OutOfRangeError('latitude out of range (must be between 80 deg S and 84 deg N)')\n",
    "    if not in_bounds(longitude, -180.0, 180.0):\n",
    "        raise OutOfRangeError('longitude out of range (must be between 180 deg W and 180 deg E)')\n",
    "\n",
    "    lat_rad = mathlib.radians(latitude)\n",
    "    lat_sin = mathlib.sin(lat_rad)\n",
    "    lat_cos = mathlib.cos(lat_rad)\n",
    "\n",
    "    lat_tan = lat_sin / lat_cos\n",
    "    lat_tan2 = lat_tan * lat_tan\n",
    "    lat_tan4 = lat_tan2 * lat_tan2\n",
    "\n",
    "    if force_zone_number is None:\n",
    "        zone_number = latlon_to_zone_number(latitude, longitude)\n",
    "    else:\n",
    "        zone_number = force_zone_number\n",
    "\n",
    "    if force_zone_letter is None:\n",
    "        zone_letter = latitude_to_zone_letter(latitude)\n",
    "    else:\n",
    "        zone_letter = force_zone_letter\n",
    "\n",
    "    lon_rad = mathlib.radians(longitude)\n",
    "    central_lon = zone_number_to_central_longitude(zone_number)\n",
    "    central_lon_rad = mathlib.radians(central_lon)\n",
    "\n",
    "    n = R / mathlib.sqrt(1 - E * lat_sin**2)\n",
    "    c = E_P2 * lat_cos**2\n",
    "\n",
    "    a = lat_cos * (lon_rad - central_lon_rad)\n",
    "    a2 = a * a\n",
    "    a3 = a2 * a\n",
    "    a4 = a3 * a\n",
    "    a5 = a4 * a\n",
    "    a6 = a5 * a\n",
    "\n",
    "    m = R * (M1 * lat_rad -\n",
    "             M2 * mathlib.sin(2 * lat_rad) +\n",
    "             M3 * mathlib.sin(4 * lat_rad) -\n",
    "             M4 * mathlib.sin(6 * lat_rad))\n",
    "\n",
    "    easting = K0 * n * (a +\n",
    "                        a3 / 6 * (1 - lat_tan2 + c) +\n",
    "                        a5 / 120 * (5 - 18 * lat_tan2 + lat_tan4 + 72 * c - 58 * E_P2)) + 500000\n",
    "\n",
    "    northing = K0 * (m + n * lat_tan * (a2 / 2 +\n",
    "                                        a4 / 24 * (5 - lat_tan2 + 9 * c + 4 * c**2) +\n",
    "                                        a6 / 720 * (61 - 58 * lat_tan2 + lat_tan4 + 600 * c - 330 * E_P2)))\n",
    "\n",
    "    if mixed_signs(latitude):\n",
    "        raise ValueError(\"latitudes must all have the same sign\")\n",
    "    elif negative(latitude):\n",
    "        northing += 10000000\n",
    "\n",
    "    return easting, northing, zone_number, zone_letter\n",
    "\n",
    "def latitude_to_zone_letter(latitude):\n",
    "    # If the input is a numpy array, just use the first element\n",
    "    # User responsibility to make sure that all points are in one zone\n",
    "    if use_numpy and isinstance(latitude, mathlib.ndarray):\n",
    "        latitude = latitude.flat[0]\n",
    "\n",
    "    if -80 <= latitude <= 84:\n",
    "        return ZONE_LETTERS[int(latitude + 80) >> 3]\n",
    "    else:\n",
    "        return None\n",
    "    \n",
    "def latlon_to_zone_number(latitude, longitude):\n",
    "    # If the input is a numpy array, just use the first element\n",
    "    # User responsibility to make sure that all points are in one zone\n",
    "    if use_numpy:\n",
    "        if isinstance(latitude, mathlib.ndarray):\n",
    "            latitude = latitude.flat[0]\n",
    "        if isinstance(longitude, mathlib.ndarray):\n",
    "            longitude = longitude.flat[0]\n",
    "\n",
    "    if 56 <= latitude < 64 and 3 <= longitude < 12:\n",
    "        return 32\n",
    "\n",
    "    if 72 <= latitude <= 84 and longitude >= 0:\n",
    "        if longitude < 9:\n",
    "            return 31\n",
    "        elif longitude < 21:\n",
    "            return 33\n",
    "        elif longitude < 33:\n",
    "            return 35\n",
    "        elif longitude < 42:\n",
    "            return 37\n",
    "\n",
    "    return int((longitude + 180) / 6) + 1\n",
    "\n",
    "def zone_number_to_central_longitude(zone_number):\n",
    "    return (zone_number - 1) * 6 - 180 + 3"
   ]
  },
  {
   "cell_type": "code",
   "execution_count": null,
   "id": "meaningful-north",
   "metadata": {},
   "outputs": [],
   "source": [
    "# the to_latlon function is the one we need to use.\n",
    "# need to make a few tweaks to use with Numba."
   ]
  },
  {
   "cell_type": "code",
   "execution_count": null,
   "id": "gorgeous-joshua",
   "metadata": {},
   "outputs": [],
   "source": [
    "@cuda.jit(device=True)\n",
    "def to_latlon(easting, northing, zone_number, zone_letter, northern, strict):\n",
    "    x = easting - 500000\n",
    "    y = northing\n",
    "\n",
    "    if not northern:\n",
    "        y -= 10000000\n",
    "\n",
    "    m = y / K0\n",
    "    mu = m / (R * M1)\n",
    "\n",
    "    p_rad = (mu +\n",
    "             P2 * mathlib.sin(2 * mu) +\n",
    "             P3 * mathlib.sin(4 * mu) +\n",
    "             P4 * mathlib.sin(6 * mu) +\n",
    "             P5 * mathlib.sin(8 * mu))\n",
    "\n",
    "    p_sin = mathlib.sin(p_rad)\n",
    "    p_sin2 = p_sin * p_sin\n",
    "\n",
    "    p_cos = mathlib.cos(p_rad)\n",
    "\n",
    "    p_tan = p_sin / p_cos\n",
    "    p_tan2 = p_tan * p_tan\n",
    "    p_tan4 = p_tan2 * p_tan2\n",
    "\n",
    "    ep_sin = 1 - E * p_sin2\n",
    "    ep_sin_sqrt = mathlib.sqrt(1 - E * p_sin2)\n",
    "\n",
    "    n = R / ep_sin_sqrt\n",
    "    r = (1 - E) / ep_sin\n",
    "\n",
    "    c = _E * p_cos**2\n",
    "    c2 = c * c\n",
    "\n",
    "    d = x / (n * K0)\n",
    "    d2 = d * d\n",
    "    d3 = d2 * d\n",
    "    d4 = d3 * d\n",
    "    d5 = d4 * d\n",
    "    d6 = d5 * d\n",
    "\n",
    "    latitude = (p_rad - (p_tan / r) *\n",
    "                (d2 / 2 -\n",
    "                 d4 / 24 * (5 + 3 * p_tan2 + 10 * c - 4 * c2 - 9 * E_P2)) +\n",
    "                 d6 / 720 * (61 + 90 * p_tan2 + 298 * c + 45 * p_tan4 - 252 * E_P2 - 3 * c2))\n",
    "\n",
    "    longitude = (d -\n",
    "                 d3 / 6 * (1 + 2 * p_tan2 + c) +\n",
    "                 d5 / 120 * (5 - 2 * c + 28 * p_tan2 - 3 * c2 + 8 * E_P2 + 24 * p_tan4)) / p_cos\n",
    "    \n",
    "    def zone_number_to_central_longitude(zone_number):\n",
    "        return (zone_number - 1) * 6 - 180 + 3\n",
    "    \n",
    "    return (mathlib.degrees(latitude),\n",
    "            mathlib.degrees(longitude) + zone_number_to_central_longitude(zone_number))\n",
    "\n",
    "\n",
    "@vectorize(['float64(float64, float64)'], target='cuda')\n",
    "def reproj_gpu_lat(x, y):\n",
    "    lat, lon = to_latlon(x, y, np.int64(31), None, True, None)\n",
    "    return lat\n",
    "\n",
    "@vectorize(['float64(float64, float64)'], target='cuda')\n",
    "def reproj_gpu_lon(x, y):\n",
    "    lat, lon = to_latlon(x, y, np.int64(31), None, True, None)\n",
    "    return lon"
   ]
  },
  {
   "cell_type": "code",
   "execution_count": null,
   "id": "smart-qualification",
   "metadata": {},
   "outputs": [],
   "source": [
    "print(reproj_gpu_lat(205500.0, 5852100.0)); print(reproj_gpu_lon(205500.0, 5852100.0))"
   ]
  },
  {
   "cell_type": "code",
   "execution_count": null,
   "id": "collect-flash",
   "metadata": {},
   "outputs": [],
   "source": [
    "# compare to reults using proj:\n",
    "(52.73838067, -1.36309792)"
   ]
  },
  {
   "cell_type": "code",
   "execution_count": null,
   "id": "honey-strength",
   "metadata": {},
   "outputs": [],
   "source": [
    "# plug back into the TiffImporter class:"
   ]
  },
  {
   "cell_type": "code",
   "execution_count": null,
   "id": "disturbed-caution",
   "metadata": {},
   "outputs": [],
   "source": [
    "class TiffImporter:\n",
    "\n",
    "    def __init__(self):\n",
    "        pass\n",
    "\n",
    "    def latlon_image(self, path):\n",
    "\n",
    "        # Open input dataset\n",
    "        indataset = gdal.Open(path, gdal.GA_ReadOnly)\n",
    "        Projection.setup(indataset.GetProjection())\n",
    "\n",
    "        # Read geotransform matrix and calculate ground coordinates\n",
    "        geomatrix = indataset.GetGeoTransform()\n",
    "        pixel = indataset.RasterXSize\n",
    "        line = indataset.RasterYSize\n",
    "\n",
    "        ct = Projection.projector.get_source_to_wgs84_transform()\n",
    "\n",
    "        latlon_im = np.zeros([2, line, pixel])\n",
    "        \n",
    "        # step 1 - apply geotransform to get the UTM coordinates of the pixel at i,j\n",
    "        @vectorize(['float64(int64, int64)'], target='cuda')\n",
    "        def transform_x_gpu(i, j):\n",
    "            x = geomatrix[0] + geomatrix[1] * j + geomatrix[2] * i\n",
    "            x += geomatrix[1] / 2.0\n",
    "            return x\n",
    "\n",
    "        @vectorize(['float64(int64, int64)'], target='cuda')\n",
    "        def transform_y_gpu(i, j):\n",
    "            y = geomatrix[3] + geomatrix[4] * j + geomatrix[5] * i\n",
    "            y += geomatrix[5] / 2.0\n",
    "            return y\n",
    "        \n",
    "        i = np.arange(0, line, 1).reshape(line, 1)\n",
    "        j = np.arange(0, pixel, 1).reshape(1, pixel)\n",
    "        \n",
    "        d_i = cuda.to_device(i)\n",
    "        d_j = cuda.to_device(j)\n",
    "        d_x = cuda.device_array(shape=(line, pixel), dtype=np.float64)\n",
    "        d_y = cuda.device_array(shape=(line, pixel), dtype=np.float64)\n",
    "\n",
    "        transform_x_gpu(d_i, d_j, out=d_x)\n",
    "        transform_y_gpu(d_i, d_j, out=d_y)\n",
    "        \n",
    "        # step 2 - apply reprojection from UTM to WGS84\n",
    "        d_lat = cuda.device_array(shape=(line, pixel), dtype=np.float64)\n",
    "        d_lon = cuda.device_array(shape=(line, pixel), dtype=np.float64)\n",
    "        reproj_gpu_lat(d_x, d_y, out=d_lat)\n",
    "        reproj_gpu_lon(d_x, d_y, out=d_lon)\n",
    "        latlon_im[0] = d_lat.copy_to_host()\n",
    "        latlon_im[1] = d_lon.copy_to_host()\n",
    "\n",
    "        return latlon_im"
   ]
  },
  {
   "cell_type": "code",
   "execution_count": null,
   "id": "silver-turkey",
   "metadata": {},
   "outputs": [],
   "source": [
    "%%time\n",
    "importer = TiffImporter()\n",
    "latlon_im = importer.latlon_image(input_path)"
   ]
  },
  {
   "cell_type": "code",
   "execution_count": null,
   "id": "optional-waterproof",
   "metadata": {},
   "outputs": [],
   "source": [
    "# now down to about 2.5 seconds using the GPU!"
   ]
  },
  {
   "cell_type": "code",
   "execution_count": null,
   "id": "available-amino",
   "metadata": {},
   "outputs": [],
   "source": [
    "latlon_im - da_gpu"
   ]
  },
  {
   "cell_type": "code",
   "execution_count": null,
   "id": "simplified-saudi",
   "metadata": {},
   "outputs": [],
   "source": [
    "np.min(latlon_im - da_gpu).data, np.max(latlon_im - da_gpu).data"
   ]
  },
  {
   "cell_type": "code",
   "execution_count": null,
   "id": "whole-grave",
   "metadata": {},
   "outputs": [],
   "source": [
    "# does not give identical results so may want to double check accuracy of the 2 methods?\n",
    "# how important are these differences in practice?"
   ]
  },
  {
   "cell_type": "code",
   "execution_count": null,
   "id": "broad-vegetation",
   "metadata": {},
   "outputs": [],
   "source": [
    "# compare to CPU equivalent to see timings..."
   ]
  },
  {
   "cell_type": "code",
   "execution_count": null,
   "id": "alternative-parliament",
   "metadata": {},
   "outputs": [],
   "source": [
    "from numba import jit, vectorize\n",
    "\n",
    "@jit\n",
    "def to_latlon(easting, northing, zone_number, zone_letter, northern, strict):\n",
    "\n",
    "\n",
    "    x = easting - 500000\n",
    "    y = northing\n",
    "\n",
    "    if not northern:\n",
    "        y -= 10000000\n",
    "\n",
    "    m = y / K0\n",
    "    mu = m / (R * M1)\n",
    "\n",
    "    p_rad = (mu +\n",
    "             P2 * mathlib.sin(2 * mu) +\n",
    "             P3 * mathlib.sin(4 * mu) +\n",
    "             P4 * mathlib.sin(6 * mu) +\n",
    "             P5 * mathlib.sin(8 * mu))\n",
    "\n",
    "    p_sin = mathlib.sin(p_rad)\n",
    "    p_sin2 = p_sin * p_sin\n",
    "\n",
    "    p_cos = mathlib.cos(p_rad)\n",
    "\n",
    "    p_tan = p_sin / p_cos\n",
    "    p_tan2 = p_tan * p_tan\n",
    "    p_tan4 = p_tan2 * p_tan2\n",
    "\n",
    "    ep_sin = 1 - E * p_sin2\n",
    "    ep_sin_sqrt = mathlib.sqrt(1 - E * p_sin2)\n",
    "\n",
    "    n = R / ep_sin_sqrt\n",
    "    r = (1 - E) / ep_sin\n",
    "\n",
    "    c = _E * p_cos**2\n",
    "    c2 = c * c\n",
    "\n",
    "    d = x / (n * K0)\n",
    "    d2 = d * d\n",
    "    d3 = d2 * d\n",
    "    d4 = d3 * d\n",
    "    d5 = d4 * d\n",
    "    d6 = d5 * d\n",
    "\n",
    "    latitude = (p_rad - (p_tan / r) *\n",
    "                (d2 / 2 -\n",
    "                 d4 / 24 * (5 + 3 * p_tan2 + 10 * c - 4 * c2 - 9 * E_P2)) +\n",
    "                 d6 / 720 * (61 + 90 * p_tan2 + 298 * c + 45 * p_tan4 - 252 * E_P2 - 3 * c2))\n",
    "\n",
    "    longitude = (d -\n",
    "                 d3 / 6 * (1 + 2 * p_tan2 + c) +\n",
    "                 d5 / 120 * (5 - 2 * c + 28 * p_tan2 - 3 * c2 + 8 * E_P2 + 24 * p_tan4)) / p_cos\n",
    "    \n",
    "    def zone_number_to_central_longitude(zone_number):\n",
    "        return (zone_number - 1) * 6 - 180 + 3\n",
    "    \n",
    "    return (mathlib.degrees(latitude),\n",
    "            mathlib.degrees(longitude) + zone_number_to_central_longitude(zone_number))\n",
    "\n",
    "@vectorize\n",
    "def reproj_cpu_lat(x, y):\n",
    "    lat, lon = to_latlon(x, y, np.int64(31), None, True, None)\n",
    "    return lat\n",
    "\n",
    "@vectorize\n",
    "def reproj_cpu_lon(x, y):\n",
    "    lat, lon = to_latlon(x, y, np.int64(31), None, True, None)\n",
    "    return lon"
   ]
  },
  {
   "cell_type": "code",
   "execution_count": null,
   "id": "theoretical-announcement",
   "metadata": {},
   "outputs": [],
   "source": [
    "print(reproj_cpu_lat(205500.0, 5852100.0)); print(reproj_cpu_lon(205500.0, 5852100.0))"
   ]
  },
  {
   "cell_type": "code",
   "execution_count": null,
   "id": "deadly-agency",
   "metadata": {},
   "outputs": [],
   "source": [
    "print(reproj_gpu_lat(205500.0, 5852100.0)); print(reproj_gpu_lon(205500.0, 5852100.0))"
   ]
  },
  {
   "cell_type": "code",
   "execution_count": null,
   "id": "deadly-major",
   "metadata": {},
   "outputs": [],
   "source": [
    "class TiffImporter:\n",
    "\n",
    "    def __init__(self):\n",
    "        pass\n",
    "\n",
    "    def latlon_image(self, path):\n",
    "\n",
    "        # Open input dataset\n",
    "        indataset = gdal.Open(path, gdal.GA_ReadOnly)\n",
    "        Projection.setup(indataset.GetProjection())\n",
    "\n",
    "        # Read geotransform matrix and calculate ground coordinates\n",
    "        geomatrix = indataset.GetGeoTransform()\n",
    "        pixel = indataset.RasterXSize\n",
    "        line = indataset.RasterYSize\n",
    "\n",
    "        ct = Projection.projector.get_source_to_wgs84_transform()\n",
    "\n",
    "        latlon_im = np.zeros([2, line, pixel])\n",
    "\n",
    "        \n",
    "        # step 1 - apply geotransform to get the UTM coordinates of the pixel at i,j\n",
    "        @vectorize\n",
    "        def geotransform_x_cpu(i, j):\n",
    "            X = geomatrix[0] + geomatrix[1] * j + geomatrix[2] * i\n",
    "            # Shift to the center of the pixel\n",
    "            X += geomatrix[1] / 2.0\n",
    "            return X\n",
    "\n",
    "        @vectorize\n",
    "        def geotransform_y_cpu(i, j):\n",
    "            Y = geomatrix[3] + geomatrix[4] * j + geomatrix[5] * i\n",
    "            # Shift to the center of the pixel\n",
    "            Y += geomatrix[5] / 2.0\n",
    "            return Y\n",
    "        \n",
    "        i = np.arange(0, line, 1).reshape(line, 1)\n",
    "        j = np.arange(0, pixel, 1).reshape(1, pixel)\n",
    "        \n",
    "        x = geotransform_x_cpu(i, j)\n",
    "        y = geotransform_y_cpu(i, j)\n",
    "\n",
    "        # step 2\n",
    "        lat = reproj_cpu_lat(x, y)\n",
    "        lon = reproj_cpu_lon(x, y)\n",
    "        latlon_im[0] = lat\n",
    "        latlon_im[1] = lon\n",
    "\n",
    "        return latlon_im"
   ]
  },
  {
   "cell_type": "code",
   "execution_count": null,
   "id": "straight-chapter",
   "metadata": {},
   "outputs": [],
   "source": [
    "%%time\n",
    "importer = TiffImporter()\n",
    "latlon_im = importer.latlon_image(input_path)"
   ]
  },
  {
   "cell_type": "code",
   "execution_count": null,
   "id": "painted-astronomy",
   "metadata": {},
   "outputs": [],
   "source": [
    "# this is a good sign - still a massive improvement cutting it down to 17s, but GPU is significantly faster,\n",
    "# so would save time if running loads of these."
   ]
  },
  {
   "cell_type": "code",
   "execution_count": null,
   "id": "sonic-compiler",
   "metadata": {},
   "outputs": [],
   "source": [
    "latlon_im - da_orig"
   ]
  },
  {
   "cell_type": "code",
   "execution_count": null,
   "id": "promising-sperm",
   "metadata": {},
   "outputs": [],
   "source": []
  },
  {
   "cell_type": "code",
   "execution_count": null,
   "id": "together-seafood",
   "metadata": {},
   "outputs": [],
   "source": [
    "# If we use CuPy in place of NumPy, Numba can work with the arrays in the same way as the device arrays,\n",
    "# so not need to do all the manual copying to and from the device.\n",
    "# We can also copy the final array back at the end rather than in two steps for lat and lon, which should\n",
    "# speed things up a little bit.\n",
    "# It is also faster working with float32. Results are unchanged."
   ]
  },
  {
   "cell_type": "code",
   "execution_count": null,
   "id": "double-portland",
   "metadata": {
    "jupyter": {
     "source_hidden": true
    },
    "tags": []
   },
   "outputs": [],
   "source": [
    "@cuda.jit(device=True)\n",
    "def to_latlon(easting, northing, zone_number, zone_letter, northern, strict):\n",
    "    x = easting - 500000\n",
    "    y = northing\n",
    "\n",
    "    if not northern:\n",
    "        y -= 10000000\n",
    "\n",
    "    m = y / K0\n",
    "    mu = m / (R * M1)\n",
    "\n",
    "    p_rad = (mu +\n",
    "             P2 * mathlib.sin(2 * mu) +\n",
    "             P3 * mathlib.sin(4 * mu) +\n",
    "             P4 * mathlib.sin(6 * mu) +\n",
    "             P5 * mathlib.sin(8 * mu))\n",
    "\n",
    "    p_sin = mathlib.sin(p_rad)\n",
    "    p_sin2 = p_sin * p_sin\n",
    "\n",
    "    p_cos = mathlib.cos(p_rad)\n",
    "\n",
    "    p_tan = p_sin / p_cos\n",
    "    p_tan2 = p_tan * p_tan\n",
    "    p_tan4 = p_tan2 * p_tan2\n",
    "\n",
    "    ep_sin = 1 - E * p_sin2\n",
    "    ep_sin_sqrt = mathlib.sqrt(1 - E * p_sin2)\n",
    "\n",
    "    n = R / ep_sin_sqrt\n",
    "    r = (1 - E) / ep_sin\n",
    "\n",
    "    c = _E * p_cos**2\n",
    "    c2 = c * c\n",
    "\n",
    "    d = x / (n * K0)\n",
    "    d2 = d * d\n",
    "    d3 = d2 * d\n",
    "    d4 = d3 * d\n",
    "    d5 = d4 * d\n",
    "    d6 = d5 * d\n",
    "\n",
    "    latitude = (p_rad - (p_tan / r) *\n",
    "                (d2 / 2 -\n",
    "                 d4 / 24 * (5 + 3 * p_tan2 + 10 * c - 4 * c2 - 9 * E_P2)) +\n",
    "                 d6 / 720 * (61 + 90 * p_tan2 + 298 * c + 45 * p_tan4 - 252 * E_P2 - 3 * c2))\n",
    "\n",
    "    longitude = (d -\n",
    "                 d3 / 6 * (1 + 2 * p_tan2 + c) +\n",
    "                 d5 / 120 * (5 - 2 * c + 28 * p_tan2 - 3 * c2 + 8 * E_P2 + 24 * p_tan4)) / p_cos\n",
    "    \n",
    "    def zone_number_to_central_longitude(zone_number):\n",
    "        return (zone_number - 1) * 6 - 180 + 3\n",
    "    \n",
    "    return (mathlib.degrees(latitude),\n",
    "            mathlib.degrees(longitude) + zone_number_to_central_longitude(zone_number))\n",
    "\n",
    "\n",
    "@vectorize(['float64(float64, float64)'], target='cuda')\n",
    "def reproj_gpu_lat(x, y):\n",
    "    lat, lon = to_latlon(x, y, np.int64(31), None, True, None)\n",
    "    return lat\n",
    "\n",
    "@vectorize(['float64(float64, float64)'], target='cuda')\n",
    "def reproj_gpu_lon(x, y):\n",
    "    lat, lon = to_latlon(x, y, np.int64(31), None, True, None)\n",
    "    return lon"
   ]
  },
  {
   "cell_type": "code",
   "execution_count": null,
   "id": "laughing-energy",
   "metadata": {},
   "outputs": [],
   "source": [
    "import cupy as cp\n",
    "       \n",
    "@vectorize(['float32(float32, float32)'], target='cuda')\n",
    "def reproj_gpu_lat(x, y):\n",
    "    lat, lon = to_latlon(x, y, cp.int32(31), None, True, None)\n",
    "    return lat\n",
    "\n",
    "@vectorize(['float32(float32, float32)'], target='cuda')\n",
    "def reproj_gpu_lon(x, y):\n",
    "    lat, lon = to_latlon(x, y, cp.int32(31), None, True, None)\n",
    "    return lon\n",
    "\n",
    "class TiffImporter:\n",
    "\n",
    "    def __init__(self):\n",
    "        pass\n",
    "\n",
    "    def latlon_image(self, path):\n",
    "\n",
    "        # Open input dataset\n",
    "        indataset = gdal.Open(path, gdal.GA_ReadOnly)\n",
    "        Projection.setup(indataset.GetProjection())\n",
    "\n",
    "        # Read geotransform matrix and calculate ground coordinates\n",
    "        geomatrix = indataset.GetGeoTransform()\n",
    "        pixel = indataset.RasterXSize\n",
    "        line = indataset.RasterYSize\n",
    "\n",
    "        ct = Projection.projector.get_source_to_wgs84_transform()\n",
    "\n",
    "        latlon_im = cp.zeros([2, line, pixel])\n",
    "        \n",
    "        # step 1 - apply geotransform to get the UTM coordinates of the pixel at i,j\n",
    "\n",
    "        d_i = cp.arange(0, line, 1, dtype=cp.int32).reshape(line, 1)\n",
    "        d_j = cp.arange(0, pixel, 1, dtype=cp.int32).reshape(1, pixel)\n",
    "        d_x = cp.empty(shape=(line, pixel), dtype=cp.float32)\n",
    "        d_y = cp.empty(shape=(line, pixel), dtype=cp.float32)\n",
    "        \n",
    "        @vectorize(['float32(int32, int32)'], target='cuda')\n",
    "        def transform_x_gpu(i, j):\n",
    "            x = geomatrix[0] + geomatrix[1] * j + geomatrix[2] * i\n",
    "            x += geomatrix[1] / 2.0\n",
    "            return x\n",
    "\n",
    "        @vectorize(['float32(int32, int32)'], target='cuda')\n",
    "        def transform_y_gpu(i, j):\n",
    "            y = geomatrix[3] + geomatrix[4] * j + geomatrix[5] * i\n",
    "            y += geomatrix[5] / 2.0\n",
    "            return y\n",
    "        \n",
    "        transform_x_gpu(d_i, d_j, out=d_x)\n",
    "        transform_y_gpu(d_i, d_j, out=d_y)\n",
    "        \n",
    "        # step 2 - apply reprojection from UTM to WGS84\n",
    "        d_lat = cp.empty(shape=(line, pixel), dtype=cp.float32)\n",
    "        d_lon = cp.empty(shape=(line, pixel), dtype=cp.float32)\n",
    "\n",
    "        reproj_gpu_lat(d_x, d_y, out=d_lat)\n",
    "        reproj_gpu_lon(d_x, d_y, out=d_lon)\n",
    "        \n",
    "        latlon_im[0] = d_lat\n",
    "        latlon_im[1] = d_lon\n",
    "\n",
    "        return cp.asnumpy(latlon_im)#latlon_im"
   ]
  },
  {
   "cell_type": "code",
   "execution_count": null,
   "id": "moved-harvard",
   "metadata": {},
   "outputs": [],
   "source": [
    "# Making these small changes does simplify things a little, and we also get further speed up. Now down to just over 1 second!"
   ]
  },
  {
   "cell_type": "code",
   "execution_count": null,
   "id": "pleased-kinase",
   "metadata": {},
   "outputs": [],
   "source": [
    "%%time\n",
    "importer = TiffImporter()\n",
    "latlon_im = importer.latlon_image(input_path)"
   ]
  },
  {
   "cell_type": "code",
   "execution_count": null,
   "id": "responsible-samoa",
   "metadata": {},
   "outputs": [],
   "source": []
  }
 ],
 "metadata": {
  "kernelspec": {
   "display_name": "Python 3",
   "language": "python",
   "name": "python3"
  },
  "language_info": {
   "codemirror_mode": {
    "name": "ipython",
    "version": 3
   },
   "file_extension": ".py",
   "mimetype": "text/x-python",
   "name": "python",
   "nbconvert_exporter": "python",
   "pygments_lexer": "ipython3",
   "version": "3.8.12"
  }
 },
 "nbformat": 4,
 "nbformat_minor": 5
}
